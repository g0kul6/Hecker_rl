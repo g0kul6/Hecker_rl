{
 "cells": [
  {
   "cell_type": "code",
   "execution_count": 1,
   "metadata": {},
   "outputs": [],
   "source": [
    "import numpy as np\n",
    "from agents.random_agent import random_policy\n",
    "from citylearn.citylearn import CityLearnEnv\n",
    "import wandb\n",
    "import random\n",
    "import torch\n",
    "import numpy as np\n",
    "from collections import namedtuple, deque\n",
    "import torch.nn as nn\n",
    "import torch.nn.functional as F"
   ]
  },
  {
   "cell_type": "code",
   "execution_count": 2,
   "metadata": {},
   "outputs": [],
   "source": [
    "class Constants:\n",
    "    episodes = 3\n",
    "    schema_path = './data/citylearn_challenge_2022_phase_1/schema.json'\n",
    "\n",
    "def action_space_to_dict(aspace):\n",
    "    \"\"\" Only for box space \"\"\"\n",
    "    return { \"high\": aspace.high,\n",
    "             \"low\": aspace.low,\n",
    "             \"shape\": aspace.shape,\n",
    "             \"dtype\": str(aspace.dtype)\n",
    "    }\n",
    "\n",
    "def env_reset(env):\n",
    "    observations = env.reset()\n",
    "    action_space = env.action_space\n",
    "    observation_space = env.observation_space\n",
    "    building_info = env.get_building_information()\n",
    "    building_info = list(building_info.values())\n",
    "    action_space_dicts = [action_space_to_dict(asp) for asp in action_space]\n",
    "    observation_space_dicts = [action_space_to_dict(osp) for osp in observation_space]\n",
    "    obs_dict = {\"action_space\": action_space_dicts,\n",
    "                \"observation_space\": observation_space_dicts,\n",
    "                \"building_info\": building_info,\n",
    "                \"observation\": observations }\n",
    "    return obs_dict"
   ]
  },
  {
   "cell_type": "code",
   "execution_count": 3,
   "metadata": {},
   "outputs": [
    {
     "name": "stdout",
     "output_type": "stream",
     "text": [
      "['aicrowd.json', 'starter.ipynb', 'local_evaluation.py', 'train.py', 'data', '.ipynb_checkpoints', 'ddpg_Analysis.ipynb', 'agents', 'submit.sh', 'requirements.txt', 'drl_algo', 'README.md', 'rewards', 'apt.txt', 'going-below-1-0-score-with-stablebaseline3.ipynb', 'docs']\n"
     ]
    }
   ],
   "source": [
    "env = CityLearnEnv(schema=Constants.schema_path)"
   ]
  },
  {
   "cell_type": "code",
   "execution_count": 6,
   "metadata": {},
   "outputs": [
    {
     "name": "stderr",
     "output_type": "stream",
     "text": [
      "/home/frozenwolf/miniconda3/envs/citylearn/lib/python3.10/site-packages/gym/spaces/box.py:73: UserWarning: \u001b[33mWARN: Box bound precision lowered by casting to float32\u001b[0m\n",
      "  logger.warn(\n"
     ]
    },
    {
     "ename": "NameError",
     "evalue": "name 'len_tot_index' is not defined",
     "output_type": "error",
     "traceback": [
      "\u001b[0;31m---------------------------------------------------------------------------\u001b[0m",
      "\u001b[0;31mNameError\u001b[0m                                 Traceback (most recent call last)",
      "Cell \u001b[0;32mIn [6], line 65\u001b[0m\n\u001b[1;32m     61\u001b[0m     \u001b[38;5;28;01mdef\u001b[39;00m \u001b[38;5;21mrender\u001b[39m(\u001b[38;5;28mself\u001b[39m, mode\u001b[38;5;241m=\u001b[39m\u001b[38;5;124m'\u001b[39m\u001b[38;5;124mhuman\u001b[39m\u001b[38;5;124m'\u001b[39m):\n\u001b[1;32m     62\u001b[0m         \u001b[38;5;28;01mreturn\u001b[39;00m \u001b[38;5;28mself\u001b[39m\u001b[38;5;241m.\u001b[39menv\u001b[38;5;241m.\u001b[39mrender(mode)\n\u001b[0;32m---> 65\u001b[0m env \u001b[38;5;241m=\u001b[39m EnvCityGym(env)\n\u001b[1;32m     66\u001b[0m env\u001b[38;5;241m.\u001b[39mpossible_agents\n",
      "Cell \u001b[0;32mIn [6], line 16\u001b[0m, in \u001b[0;36mEnvCityGym.__init__\u001b[0;34m(self, env)\u001b[0m\n\u001b[1;32m     13\u001b[0m \u001b[38;5;28mself\u001b[39m\u001b[38;5;241m.\u001b[39maction_space \u001b[38;5;241m=\u001b[39m gym\u001b[38;5;241m.\u001b[39mspaces\u001b[38;5;241m.\u001b[39mBox(low\u001b[38;5;241m=\u001b[39mnp\u001b[38;5;241m.\u001b[39marray([\u001b[38;5;241m-\u001b[39m\u001b[38;5;241m1\u001b[39m] \u001b[38;5;241m*\u001b[39m \u001b[38;5;28mself\u001b[39m\u001b[38;5;241m.\u001b[39mnum_buildings), high\u001b[38;5;241m=\u001b[39mnp\u001b[38;5;241m.\u001b[39marray([\u001b[38;5;241m1\u001b[39m] \u001b[38;5;241m*\u001b[39m \u001b[38;5;28mself\u001b[39m\u001b[38;5;241m.\u001b[39mnum_buildings), dtype\u001b[38;5;241m=\u001b[39mnp\u001b[38;5;241m.\u001b[39mfloat32)\n\u001b[1;32m     15\u001b[0m \u001b[38;5;66;03m# define the observation space\u001b[39;00m\n\u001b[0;32m---> 16\u001b[0m \u001b[38;5;28mself\u001b[39m\u001b[38;5;241m.\u001b[39mobservation_space \u001b[38;5;241m=\u001b[39m gym\u001b[38;5;241m.\u001b[39mspaces\u001b[38;5;241m.\u001b[39mBox(low\u001b[38;5;241m=\u001b[39mnp\u001b[38;5;241m.\u001b[39marray([\u001b[38;5;241m0\u001b[39m] \u001b[38;5;241m*\u001b[39m \u001b[43mlen_tot_index\u001b[49m), high\u001b[38;5;241m=\u001b[39mnp\u001b[38;5;241m.\u001b[39marray([\u001b[38;5;241m1\u001b[39m] \u001b[38;5;241m*\u001b[39m len_tot_index), dtype\u001b[38;5;241m=\u001b[39mnp\u001b[38;5;241m.\u001b[39mfloat32)\n",
      "\u001b[0;31mNameError\u001b[0m: name 'len_tot_index' is not defined"
     ]
    }
   ],
   "source": [
    "import gym\n",
    "class EnvCityGym(gym.Env):\n",
    "    \"\"\"\n",
    "    Env wrapper coming from the gym library.\n",
    "    \"\"\"\n",
    "    def __init__(self, env):\n",
    "        self.env = env\n",
    "\n",
    "        # get the number of buildings\n",
    "        self.num_buildings = len(env.action_space)\n",
    "\n",
    "        # define action and observation space\n",
    "        self.action_space = gym.spaces.Box(low=np.array([-1] * self.num_buildings), high=np.array([1] * self.num_buildings), dtype=np.float32)\n",
    "\n",
    "        # # define the observation space\n",
    "        # self.observation_space = gym.spaces.Box(low=np.array([0] * len_tot_index), high=np.array([1] * len_tot_index), dtype=np.float32)\n",
    "\n",
    "        # TO THINK : normalize the observation space\n",
    "\n",
    "    def reset(self):\n",
    "        obs_dict = env_reset(self.env)\n",
    "        obs = self.env.reset()\n",
    "\n",
    "        observation = self.get_observation(obs)\n",
    "\n",
    "        return observation\n",
    "\n",
    "    # def get_observation(self, obs):\n",
    "    #     \"\"\"\n",
    "    #     We retrieve new observation from the building observation to get a proper array of observation\n",
    "    #     Basicly the observation array will be something like obs[0][index_commun] + obs[i][index_particular] for i in range(5)\n",
    "\n",
    "    #     The first element of the new observation will be \"commun observation\" among all building like month / hour / carbon intensity / outdoor_dry_bulb_temperature_predicted_6h ...\n",
    "    #     The next element of the new observation will be the concatenation of certain observation specific to buildings non_shiftable_load / solar_generation / ...  \n",
    "    #     \"\"\"\n",
    "        \n",
    "    #     # we get the observation commun for each building (index_commun)\n",
    "    #     observation_commun = [obs[0][i]/n for i, n in zip(index_commun, normalization_value_commun)]\n",
    "    #     observation_particular = [[o[i]/n for i, n in zip(index_particular, normalization_value_particular)] for o in obs]\n",
    "\n",
    "    #     observation_particular = list(itertools.chain(*observation_particular))\n",
    "    #     # we concatenate the observation\n",
    "    #     observation = observation_commun + observation_particular\n",
    "\n",
    "        return observation\n",
    "\n",
    "    def step(self, action):\n",
    "        \"\"\"\n",
    "        we apply the same action for all the buildings\n",
    "        \"\"\"\n",
    "        # reprocessing action\n",
    "        action = [[act] for act in action]\n",
    "\n",
    "        # we do a step in the environment\n",
    "        obs, reward, done, info = self.env.step(action)\n",
    "\n",
    "        observation = self.get_observation(obs)\n",
    "\n",
    "        return observation, sum(reward), done, info\n",
    "        \n",
    "    def render(self, mode='human'):\n",
    "        return self.env.render(mode)\n",
    "\n",
    "\n",
    "env = EnvCityGym(env)\n",
    "env.possible_agents"
   ]
  },
  {
   "cell_type": "code",
   "execution_count": 4,
   "metadata": {},
   "outputs": [],
   "source": [
    "Transition_DDPG = namedtuple('Transition', ('state', 'next_state', 'action', 'reward', 'done'))\n",
    "class DDPG_Memory(object):\n",
    "    def __init__(self,capacity):\n",
    "        \"\"\"\n",
    "        Replay buffer for DDPG\n",
    "        INPUT  : state,next_state,action,reward and done\n",
    "        OUTPUT : batch of off-polocy experience\n",
    "        \"\"\"\n",
    "        self.memory = deque(maxlen=capacity)\n",
    "        self.capacity = capacity\n",
    "\n",
    "    def push(self, state, next_state, action, reward, done):\n",
    "        self.memory.append(Transition_DDPG(state, next_state, action, reward, done))\n",
    "\n",
    "    def sample(self, batch_size):\n",
    "        transitions = random.sample(self.memory, batch_size)\n",
    "        batch = Transition_DDPG(*zip(*transitions))\n",
    "        return batch\n",
    "\n",
    "    def __len__(self):\n",
    "        return len(self.memory)\n"
   ]
  },
  {
   "cell_type": "code",
   "execution_count": 7,
   "metadata": {},
   "outputs": [
    {
     "data": {
      "text/plain": [
       "(1,)"
      ]
     },
     "execution_count": 7,
     "metadata": {},
     "output_type": "execute_result"
    }
   ],
   "source": [
    "env.action_space[0].shape"
   ]
  }
 ],
 "metadata": {
  "kernelspec": {
   "display_name": "Python 3 (ipykernel)",
   "language": "python",
   "name": "python3"
  },
  "language_info": {
   "codemirror_mode": {
    "name": "ipython",
    "version": 3
   },
   "file_extension": ".py",
   "mimetype": "text/x-python",
   "name": "python",
   "nbconvert_exporter": "python",
   "pygments_lexer": "ipython3",
   "version": "3.10.4"
  },
  "orig_nbformat": 4,
  "vscode": {
   "interpreter": {
    "hash": "313191744970a64acf9ad27988ec2d9ba12809c20dfc09db0528f2434aeeaf10"
   }
  }
 },
 "nbformat": 4,
 "nbformat_minor": 2
}
